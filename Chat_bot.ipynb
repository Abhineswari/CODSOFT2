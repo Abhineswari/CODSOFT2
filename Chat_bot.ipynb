{
  "nbformat": 4,
  "nbformat_minor": 0,
  "metadata": {
    "colab": {
      "provenance": [],
      "authorship_tag": "ABX9TyNENa5di1DddtLxX3AE1QIj",
      "include_colab_link": true
    },
    "kernelspec": {
      "name": "python3",
      "display_name": "Python 3"
    },
    "language_info": {
      "name": "python"
    }
  },
  "cells": [
    {
      "cell_type": "markdown",
      "metadata": {
        "id": "view-in-github",
        "colab_type": "text"
      },
      "source": [
        "<a href=\"https://colab.research.google.com/github/Abhineswari/OASISINFO/blob/main/Chat_bot.ipynb\" target=\"_parent\"><img src=\"https://colab.research.google.com/assets/colab-badge.svg\" alt=\"Open In Colab\"/></a>"
      ]
    },
    {
      "cell_type": "code",
      "source": [
        "import cv2 hj"
      ],
      "metadata": {
        "id": "KJev93Te9Btt"
      },
      "execution_count": null,
      "outputs": []
    },
    {
      "cell_type": "code",
      "source": [
        "''' CHAT BOT'''\n",
        "import random\n",
        "\n",
        "def get_bot_response(user_input):\n",
        "\n",
        "    user_input = user_input.lower()\n",
        "\n",
        "    greetings = [\"hello\", \"hi\", \"hey\", \"greetings\", \"good day\"]\n",
        "    responses_to_greetings = [\n",
        "        \"Greetings! How may I assist you today?\",\n",
        "        \"Hello there! How can I help you?\",\n",
        "        \"Hi! What can I do for you today?\",\n",
        "        \"Hey! How may I be of assistance?\",\n",
        "        \"Good day! How can I assist you?\"\n",
        "    ]\n",
        "\n",
        "    # Define jokes\n",
        "    jokes = [\n",
        "        \"Why don't scientists trust atoms? Because they make up everything!\",\n",
        "        \"I told my wife she was drawing her eyebrows too high. She looked surprised!\",\n",
        "        \"Parallel lines have so much in common. It's a shame they'll never meet.\",\n",
        "        \"I'm reading a book on anti-gravity. It's impossible to put down!\",\n",
        "        \"I would tell you a joke about UDP, but you might not get it.\",\n",
        "        \"Why was the math book sad? Because it had too many problems.\"\n",
        "    ]\n",
        "\n",
        "    # Define suggestions for enjoyment\n",
        "    enjoyment_suggestions = [\n",
        "        \"You could go for a walk in the park and enjoy nature.\",\n",
        "        \"How about trying out a new recipe and cooking a delicious meal?\",\n",
        "        \"You might enjoy listening to your favorite music or discovering new tunes.\",\n",
        "        \"Watching a movie or binge-watching a TV series could be a relaxing way to spend time.\",\n",
        "        \"Engaging in a hobby like painting, writing, or gardening could bring you joy.\",\n",
        "        \"You could consider reading a book or exploring interesting articles online.\",\n",
        "        \"How about planning a virtual hangout with friends or family?\",\n",
        "        \"Going for a bike ride or doing some exercise can boost your mood and energy levels.\",\n",
        "        \"Taking time to meditate or practice mindfulness could help you relax and unwind.\",\n",
        "        \"You might enjoy exploring a new skill or learning something new through online courses.\"\n",
        "    ]\n",
        "\n",
        "    # Define responses for different user inputs\n",
        "    if any(greeting in user_input for greeting in greetings):\n",
        "        return random.choice(responses_to_greetings)\n",
        "    elif \"how are you\" in user_input:\n",
        "        return \"Thank you for asking. I'm just a program, but I'm functioning optimally.\"\n",
        "    elif any(keyword in user_input for keyword in [\"goodbye\", \"bye\"]):\n",
        "        return \"Farewell! Should you require further assistance, feel free to reach out.\"\n",
        "    elif \"help\" in user_input:\n",
        "        return \"c I'm here to assist you. How can I help you today?\"\n",
        "    elif \"good idea\" in user_input:\n",
        "        return \"Absolutely, take care of yourself ?, How can I assist you further?\"\n",
        "    elif \"weather\" in user_input:\n",
        "        return \"I can see it is a bit cold, but I am not trained to give the accurate weather, appologies\"\n",
        "    elif  \"owner\" in user_input:\n",
        "      return \"My owner is lINGALA ABHINESWARI \"\n",
        "    elif \"okay\" in user_input:\n",
        "      return \"No problem , I am here to help you\"\n",
        "    elif any(keyword in user_input for keyword in [\"who\", \"your name\"]):\n",
        "      return \"I'm an Manu AI-driven chatbot here to provide support. You may call me ChatBot.\"\n",
        "\n",
        "    elif any(keyword in user_input for keyword in [\"demo\", \"process\", \"assit\",\"design\"]):\n",
        "        return \"As a large language model, I don't experience emotions in the same way humans do. However, I am designed to be helpful and informative. Here's how you can make me 'happy' in that sense: * Give me interesting prompts and questions:  The more challenging and thought-provoking your questions are, the better I get at learning and expanding my abilities.\\n * Provide feedback:  Let me know if my responses are helpful or if there's anything I can improve on.\\n * Use me for creative tasks: I love generating different creative text formats, like poems, code, scripts, musical pieces, etc.  The more you use me for these, the better I become at them.\"\n",
        "    elif any(keyword in user_input for keyword in [\"joke\", \"humor\", \"funny\"]):\n",
        "        return random.choice(jokes)\n",
        "    elif any(keyword in user_input for keyword in [\"enjoy\", \"fun\", \"hobby\", \"activity\"]):\n",
        "        return random.choice(enjoyment_suggestions)\n",
        "    elif any(keyword in user_input for keyword in [\"sad\", \"depressed\", \"suicide\", \"kill myself\"]):\n",
        "        return \"I'm sorry to hear that you're feeling this way. It's important to know that you're not alone. If you're in crisis or need someone to talk to, please reach out to a trusted friend, family member, or a mental health professional. You can also contact a helpline or emergency services for immediate support.\"\n",
        "    elif any(keyword in user_input for keyword in [\"thank you\", \"thanks\"]):\n",
        "        return \"You're welcome! Should you have any further inquiries, feel free to ask.\"\n",
        "    elif any(keyword in user_input for keyword in [\"age\", \"old\"]):\n",
        "        return \"As a chatbot, I exist solely in the digital realm and don't have a conventional age.\"\n",
        "    else:\n",
        "        return \"My apologies, but I'm not programmed to understand that request. Could you please rephrase or ask something else?\"\n",
        "\n",
        "while True:\n",
        "\n",
        "    user_input = input(\"You: \")\n",
        "\n",
        "\n",
        "    if user_input.lower() == 'exit':\n",
        "        print(\"ChatBot: Thank you for engaging with me. Have a splendid day!\")\n",
        "        break\n",
        "\n",
        "\n",
        "    bot_response = get_bot_response(user_input)\n",
        "\n",
        "    print(\"ChatBot:\", bot_response)\n"
      ],
      "metadata": {
        "colab": {
          "base_uri": "https://localhost:8080/"
        },
        "id": "NrdoIYwwFc6m",
        "outputId": "a3d4a16b-0c8a-4289-ee9d-237e03d4b92d"
      },
      "execution_count": null,
      "outputs": [
        {
          "output_type": "stream",
          "name": "stdout",
          "text": [
            "You: hi\n",
            "ChatBot: Hi! What can I do for you today?\n",
            "You: exit\n",
            "ChatBot: Thank you for engaging with me. Have a splendid day!\n"
          ]
        }
      ]
    }
  ]
}