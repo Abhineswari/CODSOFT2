{
  "nbformat": 4,
  "nbformat_minor": 0,
  "metadata": {
    "colab": {
      "provenance": [],
      "authorship_tag": "ABX9TyNBuZ5i4cnDzcbwUA1ebO6k",
      "include_colab_link": true
    },
    "kernelspec": {
      "name": "python3",
      "display_name": "Python 3"
    },
    "language_info": {
      "name": "python"
    }
  },
  "cells": [
    {
      "cell_type": "markdown",
      "metadata": {
        "id": "view-in-github",
        "colab_type": "text"
      },
      "source": [
        "<a href=\"https://colab.research.google.com/github/Abhineswari/OASISINFO/blob/main/password_generator.ipynb\" target=\"_parent\"><img src=\"https://colab.research.google.com/assets/colab-badge.svg\" alt=\"Open In Colab\"/></a>"
      ]
    },
    {
      "cell_type": "code",
      "execution_count": null,
      "metadata": {
        "id": "OQDZuOAV_VL0"
      },
      "outputs": [],
      "source": [
        "''' PASSWORD GENERATION IN PYTHON'''\n",
        "\n",
        "import secrets\n",
        "import string\n",
        "\n",
        "def create_pw(pw_length=10):\n",
        "  print(\"Facing difficulty in creating pass word? \\n \"\"I can help you\")\n",
        "  print(\"Your password is getting ready....\")\n",
        "  letters = string.ascii_letters\n",
        "  digits =string.digits\n",
        "  special_chars = string.punctuation\n",
        "  alphabet = letters + digits + special_chars\n",
        "  pwd = ''\n",
        "  pw_strong = False\n",
        "\n",
        "  while not pw_strong:\n",
        "    pwd =''\n",
        "    for i in range(pw_length):\n",
        "      pwd += ''.join(secrets.choice(alphabet))\n",
        "\n",
        "    if (any(char in special_chars for char in pwd)and sum(char in digits for char in pwd) >= 2):\n",
        "      pw_strong= True\n",
        "  return pwd\n",
        "if __name__ == \"__main__\":\n",
        "    print(create_pw())\n",
        "    print(\"Your password is ready ,would  you like to save it ? \")\n",
        "\n",
        "\n"
      ]
    }
  ]
}