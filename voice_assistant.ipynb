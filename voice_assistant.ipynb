{
  "nbformat": 4,
  "nbformat_minor": 0,
  "metadata": {
    "colab": {
      "provenance": [],
      "authorship_tag": "ABX9TyP63KbwTrG2Sw2pjhitP8ER",
      "include_colab_link": true
    },
    "kernelspec": {
      "name": "python3",
      "display_name": "Python 3"
    },
    "language_info": {
      "name": "python"
    }
  },
  "cells": [
    {
      "cell_type": "markdown",
      "metadata": {
        "id": "view-in-github",
        "colab_type": "text"
      },
      "source": [
        "<a href=\"https://colab.research.google.com/github/Abhineswari/CODSOFT2/blob/main/voice_assistant.ipynb\" target=\"_parent\"><img src=\"https://colab.research.google.com/assets/colab-badge.svg\" alt=\"Open In Colab\"/></a>"
      ]
    },
    {
      "cell_type": "code",
      "source": [
        "!pip install gtts pydub\n",
        "!apt-get install ffmpeg\n"
      ],
      "metadata": {
        "colab": {
          "base_uri": "https://localhost:8080/"
        },
        "id": "yTAp7yU3w939",
        "outputId": "e7400eb9-079a-4ccb-a4a8-642223c60faf"
      },
      "execution_count": null,
      "outputs": [
        {
          "output_type": "stream",
          "name": "stdout",
          "text": [
            "Requirement already satisfied: gtts in /usr/local/lib/python3.10/dist-packages (2.5.1)\n",
            "Requirement already satisfied: pydub in /usr/local/lib/python3.10/dist-packages (0.25.1)\n",
            "Requirement already satisfied: requests<3,>=2.27 in /usr/local/lib/python3.10/dist-packages (from gtts) (2.31.0)\n",
            "Requirement already satisfied: click<8.2,>=7.1 in /usr/local/lib/python3.10/dist-packages (from gtts) (8.1.7)\n",
            "Requirement already satisfied: charset-normalizer<4,>=2 in /usr/local/lib/python3.10/dist-packages (from requests<3,>=2.27->gtts) (3.3.2)\n",
            "Requirement already satisfied: idna<4,>=2.5 in /usr/local/lib/python3.10/dist-packages (from requests<3,>=2.27->gtts) (3.7)\n",
            "Requirement already satisfied: urllib3<3,>=1.21.1 in /usr/local/lib/python3.10/dist-packages (from requests<3,>=2.27->gtts) (2.0.7)\n",
            "Requirement already satisfied: certifi>=2017.4.17 in /usr/local/lib/python3.10/dist-packages (from requests<3,>=2.27->gtts) (2024.2.2)\n",
            "Reading package lists... Done\n",
            "Building dependency tree... Done\n",
            "Reading state information... Done\n",
            "ffmpeg is already the newest version (7:4.4.2-0ubuntu0.22.04.1).\n",
            "0 upgraded, 0 newly installed, 0 to remove and 45 not upgraded.\n"
          ]
        }
      ]
    },
    {
      "cell_type": "code",
      "source": [
        "'''TEXT-SPEECH'''\n",
        "\n",
        "from gtts import gTTS\n",
        "from IPython.display import Audio, display\n",
        "import os\n",
        "\n",
        "def text_to_speech():\n",
        "    \"\"\"\n",
        "    Prompts the user to enter text and converts it to speech, playing the audio directly.\n",
        "    \"\"\"\n",
        "    while True:\n",
        "        text = input(\"Enter the text you want to convert to speech (type 'exit' to quit): \")\n",
        "\n",
        "        if text.lower() == 'exit':\n",
        "            print(\"Exiting...\")\n",
        "            break\n",
        "\n",
        "        tts = gTTS(text=text, lang='en')\n",
        "        tts.save(\"output.mp3\")\n",
        "        print(\"Text converted to speech\")\n",
        "\n",
        "        # Play the audio file\n",
        "        audio = Audio(\"output.mp3\", autoplay=True)\n",
        "        display(audio)\n",
        "\n",
        "    # Delete the audio file after exiting the loop\n",
        "    os.remove(\"output.mp3\")\n",
        "\n",
        "if __name__ == \"__main__\":\n",
        "    text_to_speech()\n"
      ],
      "metadata": {
        "colab": {
          "base_uri": "https://localhost:8080/",
          "height": 146
        },
        "id": "J6QL6Xm45DeQ",
        "outputId": "ffb3b45a-65b5-487e-9482-1f94c9c6ce4f"
      },
      "execution_count": null,
      "outputs": [
        {
          "output_type": "stream",
          "name": "stdout",
          "text": [
            "Enter the text you want to convert to speech (type 'exit' to quit): hello\n",
            "Text converted to speech\n"
          ]
        },
        {
          "output_type": "display_data",
          "data": {
            "text/plain": [
              "<IPython.lib.display.Audio object>"
            ],
            "text/html": [
              "\n",
              "                <audio  controls=\"controls\" autoplay=\"autoplay\">\n",
              "                    <source src=\"data:audio/mpeg;base64,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\" type=\"audio/mpeg\" />\n",
              "                    Your browser does not support the audio element.\n",
              "                </audio>\n",
              "              "
            ]
          },
          "metadata": {}
        },
        {
          "output_type": "stream",
          "name": "stdout",
          "text": [
            "Enter the text you want to convert to speech (type 'exit' to quit): exit\n",
            "Exiting...\n"
          ]
        }
      ]
    },
    {
      "cell_type": "code",
      "source": [
        "'''  ANSWER IN SPEECH'''\n",
        "\n",
        "\n",
        "from gtts import gTTS\n",
        "from IPython.display import Audio, display\n",
        "import datetime\n",
        "import webbrowser\n",
        "import os\n",
        "\n",
        "def speak(text):\n",
        "    tts = gTTS(text=text, lang='en')\n",
        "    tts.save(\"output.mp3\")\n",
        "    display(Audio(\"output.mp3\", autoplay=True))\n",
        "    os.remove(\"output.mp3\")\n",
        "\n",
        "def listen():\n",
        "    # Simulate listening by taking text input (since Colab doesn't support microphone input)\n",
        "    command = input(\"You: \")\n",
        "    return command.lower()\n",
        "\n",
        "def respond_to_greeting(command):\n",
        "    if 'hello' in command:\n",
        "        speak(\"Hello! How can I help you today?\")\n",
        "\n",
        "def tell_time():\n",
        "    now = datetime.datetime.now()\n",
        "    current_time = now.strftime(\"%H:%M\")\n",
        "    speak(f\"The current time is {current_time}\")\n",
        "\n",
        "def tell_date():\n",
        "    now = datetime.datetime.now()\n",
        "    current_date = now.strftime(\"%B %d, %Y\")\n",
        "    speak(f\"Today's date is {current_date}\")\n",
        "\n",
        "def search_web(query):\n",
        "    speak(\"Here are the search results.\")\n",
        "    webbrowser.open(f\"https://www.google.com/search?q={query}\")\n",
        "\n",
        "def handle_command(command):\n",
        "    if 'hello' in command:\n",
        "        respond_to_greeting(command)\n",
        "    elif 'time' in command:\n",
        "        tell_time()\n",
        "    elif 'date' in command:\n",
        "        tell_date()\n",
        "    elif 'search' in command:\n",
        "        speak(\"What do you want to search for?\")\n",
        "        query = listen()\n",
        "        search_web(query)\n",
        "    elif 'exit' in command or 'quit' in command:\n",
        "        speak(\"Goodbye!\")\n",
        "        return False\n",
        "    else:\n",
        "        speak(\"Sorry, I can't do that.\")\n",
        "    return True\n",
        "\n",
        "# Main function to run the assistant\n",
        "def main():\n",
        "    speak(\"How can I help you today?\")\n",
        "    while True:\n",
        "        command = listen()\n",
        "        if not handle_command(command):\n",
        "            break\n",
        "\n",
        "if __name__ == \"__main__\":\n",
        "    main()\n"
      ],
      "metadata": {
        "colab": {
          "base_uri": "https://localhost:8080/",
          "height": 226
        },
        "id": "DsiKVB8j0ESI",
        "outputId": "cfa6e286-2649-4aee-c309-46c93126b24a"
      },
      "execution_count": null,
      "outputs": [
        {
          "output_type": "display_data",
          "data": {
            "text/plain": [
              "<IPython.lib.display.Audio object>"
            ],
            "text/html": [
              "\n",
              "                <audio  controls=\"controls\" autoplay=\"autoplay\">\n",
              "                    <source src=\"data:audio/mpeg;base64,//NExAAAAANIAUAAAMPkGYCvBwZBCTIMObkwTheNOId4uE0U+LZOfAYJxUHf5mUJBwcX+Y3IlIyyr/b7CqO7qSf//q4sIAwW//Pgo0Cgc3/+/n980pUH2T3KOOD4tWMO//NExFMSEcpQAZNQAKXj82NT8lmbduNRqCgtvGRwYHr9jfyj0KDJ+NvtTDeokY3MK4JwJoyqd8dD1Vn4hCGKCRWKxgbYUV+/cL9qYIsJk1emsyTP7a1uI8rAYIj1QRWf//NExF0hwjZkAcx4ADDkgvKX1I6gRYFPmSJ870/xPD3A1qlK6pncTI82Cb2zhDDx+5eGG237ahXMlpwWQlwzHEozYlqi6nXks2uBN4OC4WPUnTrKdSrUn6bw4eTLUpfP//NExCkbig6IABsYmIzjOXGfYYP3yoewsSxh6uwYYzY4Pf3WI9/L/m/MFaOWpLNFl747e9Jm+TzDla336MQ5j/6/hMxPiBalKWHxPGImIE6/DCpB/YgIFtkPU77SZjBd//NExA0UUfqkADJOmBplmS6BGIhQjVJl5LklIwTcqjUEZAMDbJNulaqKp7KNjSw2FTuNgoROZ3MQ1WPtbb7bUQxWmLdM9WT2VaLIV0eQZ//6Kp51kcRMDkIqzLPF72r8//NExA4UgSKsAI4ecPuUIMIEMp+T7+OwYgQRK30cVuRfCdjtVUSEfF/nVEPsf8KPqFNTWqwYd7/VYOpNQ4kKDPNkFhBUnJ7Aw0iss/71L30pMdSYpwDKk4ZuxfBAT8Vb//NExA8WaTKwAJZicFBEEjQQ05R40uZfI+hksICimaZRbNf58xLIvwMQOUIQtrNQs8QwzVUUyIGjVnisq62LxmmllFNF6j558KGItioIOLB9tTYDa8doRVdZKAMoWw3T//NExAgTCS64AI4YcEDRaSuZVOZVF8m6YG2ruVVZaIKnYTF4Pn6CqqkVSfdoBQRhCO779WnH6U6di/f1a7bp2ft3zVnnX8FAqyvFWIWEmNT1Krm9b1Hy4IDkkGFSneoA//NExA4UWTaoAM5WcIh3kwmWS6AnuMAMqTLNuxZhrZmGqwriz5AQAQBQCQ2dOeaqHq5by2/4c5tw5zadV8tUOm5060NHk0aUPUMCzqeVT6VVf/DLOlEIJhyGw+GEOwza//NExA8SESqQAM4KcA9Jw1ZNKnLfKj5Zi7XkNXunaWXwUVXicWhRaHgYSFjiMjVIb8rexn8ytbEAUWOyR7T0HRaHVR/U+hVAkTBmz7a+YqOd76LfC2r9xAKAS3BkRyW7//NExBkSWJpoAVp4AFB+pVMRqCW1WGd91ZS4I3j5IEBiVa8ZTNGlYQ1cxjd5bW6dFg7//urWrv//////g0ovSRVkypkLDWkd4cFvig/9VvQYYYgBy/Lh5AuEiUg4Bqd+//NExCIZMlKIAY9oAGiA8DM3EtEDCYphPP003TTlwgj2RSMv7pu6dNnOWNv/TprUtNz6kmSMFHjIo//utP/kJIvT48iLf/qFiFbBYVBsNmJlhzOcpb0OEMYUIY2dMRNx//NExBAReSqcAc8YAKJfHewq3hZyjLrGMla5xnWwlJxDKPAaO7KgeWJkPTGEKXJ8VgJHYK2sERkKnBMGnOhU5///0ZXZy+67pfY59Usa7ahq5YxKBdvdRcR5EXJP87Y1//NExB0SQS6kAMPScH21n3BNaP9xky7YKvbYC6lp9EGExd1y3DhHXTUaIIvYTM9mrGIIAYJMFaOSlne3fsEAIHLbeebG90At4BlNSn6lWzLWlQrn/uZoqbHeGotr/ikH//NExCcRkTKoAM4QcJ444GoSALA2FpdRmx17ILWzcFEsxVhkNbO9ut0StaPVktrud2NFUrDxpa691t2lSOYNlr4eSWZPwhmy2T85Uqu5Xz72UOBNnLRjBKPGWPNAmsZz//NExDMSaQKUAN5ScOWgJDW1C10csTBOsCqADf0bwsKuIHtSl09jyIjoIyBwInQ1ZfV/hhICwhoxDzvY+qegAYCSak1k6abQ0CumN1so42BgtFrGdgNOZIWKSOOQ5AZd//NExDwZuZKcANZSlbnbzE2hbKkXFZtmV+c9jme73bOlxWPEqu0o5vK6jDG5cvaBuiibWpAZU/mf2HWCOQ7mZy6DTLci2WU2IDBBaK1vBN8GmZdyxhAb5y3ELMAvhJWW//NExCgTITq0AJ4ecBPX6fCPliWsbb2dxr95juNs+99f/33/8a+ox5QZjwLXNrvSnqW2/mQHeIRLj7Nw1PhHd5RIaW5t/liPiOqQN7C/VYXAuG47A2SA63LgAVgIpnPG//NExC4SSRq0AH4acASpsutY4yj1kmbN0Cjw9FgRdE2VRFzqiD939Cp20hZoLJDW54ewUjkuikoyB+F1WQ8OYZoKTWLJZaqQ6i8vYlFG2yQJEiyaZ4LgihrNFWpJ09aS//NExDcQyaa0AKSalFVpo16D+s99vUZu9VVHTKAXoBfqDSVAXyAepOnDF4cqcQMmODtrdbjJJfea1fbHrbazr2bpLgCWl6lFJze9Moj5yDOM+k2pkdeL4Qc8/r1Ksa3U//NExEYQmUKwAJzWcHjNWEWJuXcUQwggI1PrB1Acy3NAbk135bODKOufTW/w0TNdSUNR3w5AGGECKJhCRDF1p5YUtbOF9tw3P11HyZv//oq/zdAn+CkTf7zL6tNqUOYV//NExFYRYT6sAMsQcAC4bi+MBGlR0fEKkv7PdLM/7PKi+pQEZogGayozQRg6C7DoTudS7DrMjcMApUqRJUf91H9dmc95J3lEa9f4482EKIASenNwGiQlYAIujnacvXvc//NExGMRKUqsAMKSlEL3Mz301i7xiQIp2hG6uaKOadWTCT9HAyMC8tEh9SekVuW+y/61tfq7DIelz6/MkXlQRMyOYGuKXq5+izBWIZKxJ5ROF65hIGI+QCAYZkwMAYDc//NExHEQ4S6wAMJMcBtyOEYyZuP+2xS3BkNAug6/F2We5Gc7N/Uq5vW5gAwjF/nGNBF7XK11BkofJaleOlIoznY3HxZFF3PYiQthfMzACkHGsaJlAZol35ivrQ929b1s//NExIARiP6wAMPScJoeZj9HUZUtFf/r8uhJIgU+yBXCUBOhUToG7gUiFeGo6DEluFcXre3DQ0a5RVYWXhe6zDNI7UfsYc3jr+xm9tf5uxWfKUBcEBCtpZMi8wAjPqqx//NExIwRAT60AMYgcP+GaZILg6mfbKyjCGWw/bbCgJMulhZqWQC2qHUyAVw1+63Jk6tDj16aOxquGColDKgaFhjWf9BgaAWtAgosIoaEkwj+xNWnw/85wLmEuPxf+XJa//NExJsRoU60AJ4ElJy2LOk09Dz4GFh1IVsZ3PvrFFTKdJ9007QRqmtb3nvLLf//8x+9////9HYpWQ2l7Jyo4Uq1vo/ShWmQ/cs0bMAQYe7gyDI4eceCE5Tq7OxFo1P2//NExKcRiJqsAMYwTFkEGCkfcA603DO6zR0HUAr2WvKnhHib//tUDwNHpH8VErv1t6f///pVMWGGiJCuRKTES44GcNHFgcLEIC6UPgwKRAONF12xR1cnBqTXSsIz8YSl//NExLMRYaakAMYElAVHtBY9K//93Cqmf5YGXXaCVbnf///9KhOJEVS5yY4luNdUYa0/s1B96JS69hS1eBIKrNQi4JBkSxUVdKKpF3jizUP6xcYx02k3tRfdUaMxRzoy//NExMAQkIqMAM5wTOdaNsudsvfX/ValFSLNoFrbOG6VjqXG4wOkeAoW/mqJXDLGWtakgq45zZBNN1mCTJjjC9gURNZozqc8mwwgwgXQFoFoymqoTyjOBQwWsTMSglCQ//NExNAQWIZYAN4YSE9N3pMtBNTEIcY50Bhx5ko9FN63Q02pIuxoaFOZj3HGPMLxs3q72TqpOpNETAoGRiouIm5MQNDf//3dlp0009abc8tObtL5pTPpqsYfVoZUww0v//NExOERmFI8AVgYADKA25NYPAhEevg+eTz2H7d/UV3Ltl8zUuPsLDKnmBKI/3wVEg4fWSkEGDYxL+zS7KB0EK8oNEMRg8hQSySyVmj63mTRm2ndMXWOFSh0kFBvULlK//NExO0kSypYAZhoANod1S3V079hMukC87Kb6Wcyos81E1W6vZfwign8ukCQmErL9dLlinMaf6jnEERaI4k6M6KzGgkAAIjBlpmTCyA5+rtCmm71LvcTkXMcekw1tU1V//NExK4g4mqMAZlYAUxtXQXrTTatMwMTYyLhKBsDlEmHgJ4OAlC04aMTElrRMSTYvGBfHOSjpnS+bmiLTh51maY7zJBFAqR9PaibLOoy8arrUjrkxaalKvq//9dVf/+///NExH0gCuaEAdtoAbnjhlWzCI6o4AAY64RUITnT6JCoxhRCDGp1GwmAFYr/iMMLeqSyRc3xXXxSkbed03u+o81IlY9Ym2xlVy7qHAUgA2bxSLLmnCAIxJgd5WRyUsCO//NExE8iOu6IANvWuWomL3khEscuhSzTVOjyx0xO0R3EwmoPo462boirWTpM6y3Xdtasqio6Yj///////+33////H3vnRxa7epEdzSqw5Tk7xmrB+cwQWo1bC2jFmYIO//NExBkYoZKYANDelGwQQbRBZEgilTdJEdXd0PdIcNzZ0itxyrJeSRzSqQcEouFxBWmV2q2eM/rCs+vXOc/Gv/n1z9easAGnPeu0uTSrqKB7//s/xZ6qubqEIdBy7RCo//NExAkROSKkANQYcNOjIMUBVoa2CLFhVLi8wfQRRzdH2vXys7/TOb22RNXEMKRyEoosMrUOxl+lRDo9HMVT9msVZ//1////15LbmxVWESYm9QAlgra0tUI6HBZIjHQS//NExBcRqR6UANQScG0wJKtXYnnqS/qP95/FbL0QkrlxKPd4IsuTc1FY6ZgbMiaQTDRWj50UZ///////SmpuspWbqmaoG5RZpFIwQFI1DVpKKMC4xJ3p7ta1/81nZMv6//NExCMRQSZwAVooAFzLTU3MLRIImnKhnLRWMHhYRDowVEQ9gics7CZWsUOZu2tOZaxMV3SJrKmcTzh0jyNzx3/Yv3nNDY8JHnuyFRAWEr++EgOC4iFk3U1FPPoOBk4o//NExDEcwypkAZg4ACIJ1XR5inkzGIFAeiMAgbicCtE+p7lzLWMEgXBQBZACIlAPOp/889Ga78KiocJGnmpOYv//+fs//YxDlYscOTSzEyRyIizB1/NDJ2t3M7Pf0V93//NExBEWKxq4AYM4Af0mK5j9db1chcxjOaXREaFxKZo8eys+p6pIMNxYOkjTB8aHDRSqg5f/7IYfPd0Z0AUNGNJFRMrHO///7M/StuVLFZxaw86dHQ6kZybZzt/+n/////NExAsP4ea4AcIoAFdC3ZkdW9esokUY5kW96P07X0QoiJAOHSMjsVDNYoi6CyiUAhsDHlHhKJTLCH042rktbvjls2pQAbiQn1lgXOAtvq6CS4GG51hBpziYBlJS6iZ0//NExB4ROZ6gAMFOlE8/JdEoY1QuQGzkURZ13znSa5UqNTjWd3V2/6+pRKlCadNRiJXcSq3ciSVLiXUoXlNETb+mDOB7MX2MyYfIx7kGRZi4+l80vwg9kuPUUAUJJ5El//NExCwQ2SqgAMzWcKXLFuU2exvLzlySDIeD3+vGFzf/7aJZNXpqTxBuW5jaZ51BjRrTVMzSPAYVRVjVtLLll+oMXEPNf617VuJVHFRWSmBSYII4WeyRVNVmpWmk2fUW//NExDsRyTaYAMvQcB5rS3yXNPFm9DBv9Sp9X6GAx2t4mTbCLFDMzwh6g0IxAOhQl5FZ1e0tWxvdnK1+WZ1z/yvNfcrSgKiK1FHa2q7Nyuv7Sq5JrNH3ytp7pJFk03WH//NExEYQ+S5oAVpAALTpvkqgqxumUXU0X6UY/KcwlEBfnyQPg0koR/8Ecnk8EwB8Yja7/6tAdhMUJUD+Sv/wRye84zUVBJHouF//+BITDgJ69Jglohk2B5JX//5ufHQc//NExFUiCyKUAZhYAf6J66LjohAkkYrKv///zc+TDSvzd95mTEDc0aauWXQJX/////7K/33sr9OnIpTTre0lAyqPxWZhwmqa06Q6YZwsIdFOE+NntsuxLOZP5Vz3T1Ms//NExB8SaTqkAdlIAAVrbBAn9neTbrsILVYICEAxCZI6x08bnCmPD5U/NVt5HiKFrztnoMuPt02z+QwBFreKP7qTErALRJMGQGjXRVJWx7LDkhx7Mfzkxz9Wb6vk/+bx//NExCgQqS6sAMYWcGRQBh+OG5e56bKWS4alXTbTyY4HAXnb9dW4oss5ghlJM5QGVpdMZEoRmUCFrQLPtq1LmUB2d14Vj8cs//fOvZ+uT2PfpXPSS2B8xgrFPJFvUfd3//NExDgSOTaoAMYYcF7JXnkuOPYQeFnvsoXQ1B7R19KWjY720TrnvsDZbENiKF/7Nwu1Lt23u/sYo9bi/P18yh3yVs5ine1XjJIjPRwBjK7lLdzO0WqJ3aVbVuyB7Hi9//NExEIRwTKkAMZYcL31HPUYrq4ASzxA+yglawWYlUhqglA0zQNQGRPIDmH6iSSom2/od7eROhB04uZAKwTseCtKcUazzRzG3kGYAPJgLsjqEq6l0q+NQEqvZJKlEN5l//NExE4QuSqoAHyQcJWVmRVB0UqnA2Y2WWDuWC3k9rfM+2bXOVTibJhumUwKajw2GajFzRSKaiIsIHxjy1tt2L2WZWz/6+WOAB+95KCRifiYa1amGJB+a2awdrUw2f83//NExF4RASKkAMUacNsuSu9+rHd98p1tO1pRxbnl6C5sDQ3FYOyRCBcUSVLuMF17Qpf0duT+Ik//1e8rgWFqqOnFs+8AKzJoINoETGhqT4Oxm9FTrrmvxv/P09/v+GVb//NExG0RuSqYAM4WcPaX9rh6CEF6kcnkUZmtFWwNnQee3T+ia//+1P///rWUXpQaSc5NlWtXsqWUHbyKUis7Ja2LUe8gaxu5j/KDvbl/+/79r2nX5IpRDCqFA4OkHkyR//NExHkRISacAMPScEpBJZohZwgLG0N9HeA0v6z//////3IVbrnfOMa/KxBGmfJmwhUZoKnAih7mbmHwy63rJfFmvHk3+r+/q+b9f72JkcgKCChHF3LDg0WPinsdaTmj//NExIcSkSaUAM5QcPvIQ/8Jf////3LSh6mKu06h1GqbwsYNQOmW0MgtxYCSeTiu9f79bpvuZfylOtDDrd/t6IeQDAqJMSG5g4LxYeaMnA/IsWj161tUWdVt/m1v///s//NExI8SMTKQAMvQcLFM1AiqMmsj3R8AiQkH1/NGGDKz4tDDOWRgYAjfBjjf4n0igbUZE8UeP5SUjRb5eJ8houcXBRkya/FGBJA9kGwQA0YInIaTAgMMcNoORq8CbCJC//NExJkSiSaMAVk4AIpBDMxODGjtIckk/+opoCFh3IGZmbpdSqK/+XDNbIEVRMk2NTD/1f/zdT0jFRDCosiRmRUgPlhE1dVDHojoK1jRIQV3GllYmm27Pc2zmnnrXR9i//NExKEhyqpgAZuQAOuyNq6f2tV0FhMwg4RURchXQTAhhIrMtDsvXVv3JrKgkdTvsMKGyb39LlUbu3/dWVUfLg9JEMZiQrMLvTuR1IwUQ7k1ASbrMaqXz/4Ze3zXyqMa//NExGwSYbIYAc8oABQECAnQxkMVQHW22yKVHytmVtHhjEp6VOllTwa50K3NuT93qX1u95WLj2lGMfCAs4FsznbNSfyEWbzVc7k99skhAmBUsPY02VGtPGCIoiH49p4x//NExHUSgaoIAHjElKiqAEPOng61U6GhEJSwwe1nY0xptY1iepagqMUEwuK0aNGLAwMAAAgRCtcIghT6ax6+g8PL1rIAAhKxRRIqHly/11rv/I7Tv0p6yAAo0v/69T/2//NExH4RoQnsABhGcIKP/1y4ev9a6//RIpf9IKUsFgSBIVCoCAmVVAQEBAVGgqCoaLAqCrix7lQaBr/lgaBk6WBoGg1WCoLA1gqDQd/BVniUFZYFQVDXq1HsGj2pTEFN//NExIoRsFH0AEiGJUUzLjEwMFVVVVVVVVVVVVVVVVVVVVVVVVVVVVVVVVVVVVVVVVVVVVVVVVVVVVVVVVVVVVVVVVVVVVVVVVVVVVVVVVVVVVVVVVVVVVVVTEFNRTMu//NExJYP8EXwAEjGJDEwMFVVVVVVVVVVVVVVVVVVVVVVVVVVVVVVVVVVVVVVVVVVVVVVVVVVVVVVVVVVVVVVVVVVVVVVVVVVVVVVVVVVVVVVVVVVVVVVVVVVTEFNRTMu//NExKkAAANIAAAAADEwMFVVVVVVVVVVVVVVVVVVVVVVVVVVVVVVVVVVVVVVVVVVVVVVVVVVVVVVVVVVVVVVVVVVVVVVVVVVVVVVVVVVVVVVVVVVVVVVVVVVTEFNRTMu//NExKwAAANIAAAAADEwMFVVVVVVVVVVVVVVVVVVVVVVVVVVVVVVVVVVVVVVVVVVVVVVVVVVVVVVVVVVVVVVVVVVVVVVVVVVVVVVVVVVVVVVVVVVVVVVVVVVTEFNRTMu//NExKwAAANIAAAAADEwMFVVVVVVVVVVVVVVVVVVVVVVVVVVVVVVVVVVVVVVVVVVVVVVVVVVVVVVVVVVVVVVVVVVVVVVVVVVVVVVVVVVVVVVVVVVVVVVVVVVTEFNRTMu//NExKwAAANIAAAAADEwMFVVVVVVVVVVVVVVVVVVVVVVVVVVVVVVVVVVVVVVVVVVVVVVVVVVVVVVVVVVVVVVVVVVVVVVVVVVVVVVVVVVVVVVVVVVVVVVVVVVTEFNRTMu//NExKwAAANIAAAAADEwMFVVVVVVVVVVVVVVVVVVVVVVVVVVVVVVVVVVVVVVVVVVVVVVVVVVVVVVVVVVVVVVVVVVVVVVVVVVVVVVVVVVVVVVVVVVVVVVVVVVTEFNRTMu//NExKwAAANIAAAAADEwMFVVVVVVVVVVVVVVVVVVVVVVVVVVVVVVVVVVVVVVVVVVVVVVVVVVVVVVVVVVVVVVVVVVVVVVVVVVVVVVVVVVVVVVVVVVVVVVVVVVTEFNRTMu//NExKwAAANIAAAAADEwMFVVVVVVVVVVVVVVVVVVVVVVVVVVVVVVVVVVVVVVVVVVVVVVVVVVVVVVVVVVVVVVVVVVVVVVVVVVVVVVVVVVVVVVVVVVVVVVVVVVTEFNRTMu//NExKwAAANIAAAAADEwMFVVVVVVVVVVVVVVVVVVVVVVVVVVVVVVVVVVVVVVVVVVVVVVVVVVVVVVVVVVVVVVVVVVVVVVVVVVVVVVVVVVVVVVVVVVVVVVVVVVTEFNRTMu//NExKwAAANIAAAAADEwMFVVVVVVVVVVVVVVVVVVVVVVVVVVVVVVVVVVVVVVVVVVVVVVVVVVVVVVVVVVVVVVVVVVVVVVVVVVVVVVVVVVVVVVVVVVVVVVVVVVTEFNRTMu//NExKwAAANIAAAAADEwMFVVVVVVVVVVVVVVVVVVVVVVVVVVVVVVVVVVVVVVVVVVVVVVVVVVVVVVVVVVVVVVVVVVVVVVVVVVVVVVVVVVVVVVVVVVVVVVVVVVTEFNRTMu//NExKwAAANIAAAAADEwMFVVVVVVVVVVVVVVVVVVVVVVVVVVVVVVVVVVVVVVVVVVVVVVVVVVVVVVVVVVVVVVVVVVVVVVVVVVVVVVVVVVVVVVVVVVVVVVVVVVTEFNRTMu//NExKwAAANIAAAAADEwMFVVVVVVVVVVVVVVVVVVVVVVVVVVVVVVVVVVVVVVVVVVVVVVVVVVVVVVVVVVVVVVVVVVVVVVVVVVVVVVVVVVVVVVVVVVVVVVVVVVVVVVVVVV//NExKwAAANIAAAAAFVVVVVVVVVVVVVVVVVVVVVVVVVVVVVVVVVVVVVVVVVVVVVVVVVVVVVVVVVVVVVVVVVVVVVVVVVVVVVVVVVVVVVVVVVVVVVVVVVVVVVVVVVVVVVV//NExKwAAANIAAAAAFVVVVVVVVVVVVVVVVVVVVVVVVVVVVVVVVVVVVVVVVVVVVVVVVVVVVVVVVVVVVVVVVVVVVVVVVVVVVVVVVVVVVVVVVVVVVVVVVVVVVVVVVVVVVVV\" type=\"audio/mpeg\" />\n",
              "                    Your browser does not support the audio element.\n",
              "                </audio>\n",
              "              "
            ]
          },
          "metadata": {}
        },
        {
          "name": "stdout",
          "output_type": "stream",
          "text": [
            "You: hello\n"
          ]
        },
        {
          "output_type": "display_data",
          "data": {
            "text/plain": [
              "<IPython.lib.display.Audio object>"
            ],
            "text/html": [
              "\n",
              "                <audio  controls=\"controls\" autoplay=\"autoplay\">\n",
              "                    <source src=\"data:audio/mpeg;base64,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\" type=\"audio/mpeg\" />\n",
              "                    Your browser does not support the audio element.\n",
              "                </audio>\n",
              "              "
            ]
          },
          "metadata": {}
        },
        {
          "name": "stdout",
          "output_type": "stream",
          "text": [
            "You: exit\n"
          ]
        },
        {
          "output_type": "display_data",
          "data": {
            "text/plain": [
              "<IPython.lib.display.Audio object>"
            ],
            "text/html": [
              "\n",
              "                <audio  controls=\"controls\" autoplay=\"autoplay\">\n",
              "                    <source src=\"data:audio/mpeg;base64,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\" type=\"audio/mpeg\" />\n",
              "                    Your browser does not support the audio element.\n",
              "                </audio>\n",
              "              "
            ]
          },
          "metadata": {}
        }
      ]
    }
  ]
}